{
  "nbformat": 4,
  "nbformat_minor": 0,
  "metadata": {
    "colab": {
      "provenance": []
    },
    "kernelspec": {
      "name": "python3",
      "display_name": "Python 3"
    },
    "language_info": {
      "name": "python"
    }
  },
  "cells": [
    {
      "cell_type": "code",
      "execution_count": 1,
      "metadata": {
        "colab": {
          "base_uri": "https://localhost:8080/"
        },
        "id": "B8sjDvUglw43",
        "outputId": "8836101f-c177-4b1e-ae40-cc6a6e324ec1"
      },
      "outputs": [
        {
          "output_type": "stream",
          "name": "stdout",
          "text": [
            "Merged data has been written to merged_data.csv\n",
            "Number of null values in column customer_membership: 107\n"
          ]
        }
      ],
      "source": [
        "import pandas as pd\n",
        "\n",
        "# Read data from CSV files\n",
        "sales_df = pd.read_csv('/content/sales.csv')\n",
        "categories_df = pd.read_csv('/content/categories.csv')\n",
        "vendor_df = pd.read_csv('/content/vendors.csv')\n",
        "customers_df = pd.read_csv('/content/customers.csv')\n",
        "\n",
        "\n",
        "# Perform right join\n",
        "sales_category_df = pd.merge(categories_df, sales_df, on='category_id', how='right')\n",
        "sales_category_vendor_df = pd.merge(vendor_df, sales_category_df, on='vendor_id', how='right')\n",
        "sales_category_vendor_customer_df = pd.merge(customers_df, sales_category_vendor_df, on='customer_id', how='right')\n",
        "\n",
        "\n",
        "\n",
        "\n",
        "print(\"Merged data has been written to merged_data.csv\")\n",
        "\n",
        "null_count = sales_category_vendor_customer_df['customer_membership'].isnull().sum()\n",
        "\n",
        "print(f\"Number of null values in column customer_membership: {null_count}\")\n",
        "sales_category_vendor_customer_df.head()\n",
        "\n",
        "columns_to_remove = ['customer_index', 'customer_latitude', 'customer_logitude',\n",
        "                     'customer_preferred_categories','city', 'state',\n",
        "                     'country_x', 'category_system_id']\n",
        "\n",
        "\n",
        "# Drop the specified columns\n",
        "sales_category_vendor_customer_df = sales_category_vendor_customer_df.drop(columns=columns_to_remove)\n",
        "#sales_category_vendor_customer_df.head()\n",
        "\n",
        "# Write merged data to a new CSV file\n",
        "sales_category_vendor_customer_df.to_csv('sales_category_vendor_customer.csv', index=False)"
      ]
    },
    {
      "cell_type": "code",
      "source": [
        "total_sales_per_donation = sales_category_vendor_customer_df.groupby('donation_id')['sales'].sum()\n",
        "\n",
        "# Sorting the summed sales values in descending order\n",
        "sorted_totals = total_sales_per_donation.sort_values(ascending=False)\n",
        "\n",
        "print(sorted_totals)"
      ],
      "metadata": {
        "colab": {
          "base_uri": "https://localhost:8080/"
        },
        "id": "aGDKOmv-ns6I",
        "outputId": "364a9721-39e7-4e54-8662-b0e20e07754d"
      },
      "execution_count": 2,
      "outputs": [
        {
          "output_type": "stream",
          "name": "stdout",
          "text": [
            "donation_id\n",
            "37EFE9CB-DA07-4A97-8A66-EF7F159DA60A    110.50\n",
            "874CA6F1-421D-4F7D-825D-09398537C275     97.50\n",
            "372BCE90-7828-4922-A810-7E234E5DB052     97.50\n",
            "ABE39535-FFE5-4E18-B408-A0CE0E696DB7     91.00\n",
            "74BA86CE-BCE5-4319-A698-91B8F050D197     91.00\n",
            "                                         ...  \n",
            "6BDD7C90-B331-4090-B836-736D1047C273      3.25\n",
            "F0D24512-0188-45DC-A7A6-C71534CB8759      3.25\n",
            "61D31434-8DF6-450C-A1FD-8443E7051ABA      3.25\n",
            "0D60F9D0-6EBE-4A09-9AB0-3220BFD60F54      2.00\n",
            "17996C56-0B15-45A7-8BC1-12E5BBD17BAF      2.00\n",
            "Name: sales, Length: 571, dtype: float64\n"
          ]
        }
      ]
    },
    {
      "cell_type": "code",
      "source": [
        "sorted_totals_df = pd.DataFrame({'donation_id': sorted_totals.index, 'sales': sorted_totals.values})\n",
        "\n",
        "# Writing the DataFrame to a new CSV file\n",
        "sorted_totals_df.to_csv('sorted_sales_totals.csv', index=False)"
      ],
      "metadata": {
        "id": "L_bUAYFYn1Wz"
      },
      "execution_count": 3,
      "outputs": []
    },
    {
      "cell_type": "code",
      "source": [
        "data = pd.read_csv('/content/sales_category_vendor_customer.csv')\n",
        "column_name = 'customer_membership'\n",
        "value_counts = data[column_name].value_counts()\n",
        "value_counts_df = pd.DataFrame({'customer_membership': value_counts.index, 'Count': value_counts.values})\n",
        "\n",
        "# Sort the DataFrame by count in descending order\n",
        "membership = value_counts_df.sort_values(by='Count', ascending=False)\n",
        "\n",
        "print(membership)"
      ],
      "metadata": {
        "colab": {
          "base_uri": "https://localhost:8080/"
        },
        "id": "z5hljkv_oEjB",
        "outputId": "0cd064fb-d733-4695-e614-f2d917c85d82"
      },
      "execution_count": 4,
      "outputs": [
        {
          "output_type": "stream",
          "name": "stdout",
          "text": [
            "        customer_membership  Count\n",
            "0          FoodCloud Retail    324\n",
            "1                    Ad-hoc    180\n",
            "2    FoodCloud Allocation M     48\n",
            "3   FoodCloud Allocation XL     20\n",
            "4        FoodCloud Choice S     14\n",
            "5        FoodCloud Choice M      8\n",
            "6            FoodCloud Plus      6\n",
            "7  FoodCloud Choice S Extra      4\n",
            "8    FoodCloud Allocation L      1\n"
          ]
        }
      ]
    },
    {
      "cell_type": "code",
      "source": [
        "membership.to_csv('customer_membership.csv', index=False)"
      ],
      "metadata": {
        "id": "eZ3XOobgoKWb"
      },
      "execution_count": 5,
      "outputs": []
    },
    {
      "cell_type": "markdown",
      "source": [],
      "metadata": {
        "id": "AbCiEjKipM02"
      }
    },
    {
      "cell_type": "code",
      "source": [],
      "metadata": {
        "id": "mex19cPNpNmz"
      },
      "execution_count": null,
      "outputs": []
    }
  ]
}